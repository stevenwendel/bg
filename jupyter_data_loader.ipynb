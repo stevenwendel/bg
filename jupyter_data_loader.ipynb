{
 "cells": [
  {
   "cell_type": "code",
   "execution_count": 4,
   "metadata": {},
   "outputs": [
    {
     "ename": "SyntaxError",
     "evalue": "invalid syntax (3603721937.py, line 6)",
     "output_type": "error",
     "traceback": [
      "\u001b[0;36m  Cell \u001b[0;32mIn[4], line 6\u001b[0;36m\u001b[0m\n\u001b[0;31m    jupyter nbextension enable --py --sys-prefix qgrid\u001b[0m\n\u001b[0m            ^\u001b[0m\n\u001b[0;31mSyntaxError\u001b[0m\u001b[0;31m:\u001b[0m invalid syntax\n"
     ]
    }
   ],
   "source": [
    "import pickle\n",
    "import pandas as pd\n",
    "import numpy as np\n",
    "import qgrid\n",
    "\n",
    "file_path = './data/run_data.pkl'\n",
    "\n",
    "df = pd.read_pickle(file_path)\n",
    "qgrid_widget = qgrid.show_grid(df, show_toolbar=True)\n",
    "qgrid_widget\n"
   ]
  },
  {
   "cell_type": "code",
   "execution_count": 5,
   "metadata": {},
   "outputs": [
    {
     "name": "stdout",
     "output_type": "stream",
     "text": [
      "Requirement already satisfied: jupyter_contrib_nbextensions in ./.venv/lib/python3.10/site-packages (0.7.0)\n",
      "Requirement already satisfied: ipython_genutils in ./.venv/lib/python3.10/site-packages (from jupyter_contrib_nbextensions) (0.2.0)\n",
      "Requirement already satisfied: jupyter_contrib_core>=0.3.3 in ./.venv/lib/python3.10/site-packages (from jupyter_contrib_nbextensions) (0.4.2)\n",
      "Requirement already satisfied: jupyter_core in ./.venv/lib/python3.10/site-packages (from jupyter_contrib_nbextensions) (5.7.2)\n",
      "Requirement already satisfied: jupyter_highlight_selected_word>=0.1.1 in ./.venv/lib/python3.10/site-packages (from jupyter_contrib_nbextensions) (0.2.0)\n",
      "Requirement already satisfied: jupyter_nbextensions_configurator>=0.4.0 in ./.venv/lib/python3.10/site-packages (from jupyter_contrib_nbextensions) (0.6.4)\n",
      "Requirement already satisfied: nbconvert>=6.0 in ./.venv/lib/python3.10/site-packages (from jupyter_contrib_nbextensions) (7.16.4)\n",
      "Requirement already satisfied: notebook>=6.0 in ./.venv/lib/python3.10/site-packages (from jupyter_contrib_nbextensions) (7.2.2)\n",
      "Requirement already satisfied: tornado in ./.venv/lib/python3.10/site-packages (from jupyter_contrib_nbextensions) (6.4.1)\n",
      "Requirement already satisfied: traitlets>=4.1 in ./.venv/lib/python3.10/site-packages (from jupyter_contrib_nbextensions) (5.14.3)\n",
      "Requirement already satisfied: lxml in ./.venv/lib/python3.10/site-packages (from jupyter_contrib_nbextensions) (5.3.0)\n",
      "Requirement already satisfied: setuptools in ./.venv/lib/python3.10/site-packages (from jupyter_contrib_core>=0.3.3->jupyter_contrib_nbextensions) (58.1.0)\n",
      "Requirement already satisfied: jupyter-server in ./.venv/lib/python3.10/site-packages (from jupyter_nbextensions_configurator>=0.4.0->jupyter_contrib_nbextensions) (2.14.2)\n",
      "Requirement already satisfied: pyyaml in ./.venv/lib/python3.10/site-packages (from jupyter_nbextensions_configurator>=0.4.0->jupyter_contrib_nbextensions) (6.0.2)\n",
      "Requirement already satisfied: beautifulsoup4 in ./.venv/lib/python3.10/site-packages (from nbconvert>=6.0->jupyter_contrib_nbextensions) (4.12.3)\n",
      "Requirement already satisfied: bleach!=5.0.0 in ./.venv/lib/python3.10/site-packages (from nbconvert>=6.0->jupyter_contrib_nbextensions) (6.2.0)\n",
      "Requirement already satisfied: defusedxml in ./.venv/lib/python3.10/site-packages (from nbconvert>=6.0->jupyter_contrib_nbextensions) (0.7.1)\n",
      "Requirement already satisfied: jinja2>=3.0 in ./.venv/lib/python3.10/site-packages (from nbconvert>=6.0->jupyter_contrib_nbextensions) (3.1.4)\n",
      "Requirement already satisfied: jupyterlab-pygments in ./.venv/lib/python3.10/site-packages (from nbconvert>=6.0->jupyter_contrib_nbextensions) (0.3.0)\n",
      "Requirement already satisfied: markupsafe>=2.0 in ./.venv/lib/python3.10/site-packages (from nbconvert>=6.0->jupyter_contrib_nbextensions) (3.0.2)\n",
      "Requirement already satisfied: mistune<4,>=2.0.3 in ./.venv/lib/python3.10/site-packages (from nbconvert>=6.0->jupyter_contrib_nbextensions) (3.0.2)\n",
      "Requirement already satisfied: nbclient>=0.5.0 in ./.venv/lib/python3.10/site-packages (from nbconvert>=6.0->jupyter_contrib_nbextensions) (0.10.0)\n",
      "Requirement already satisfied: nbformat>=5.7 in ./.venv/lib/python3.10/site-packages (from nbconvert>=6.0->jupyter_contrib_nbextensions) (5.10.4)\n",
      "Requirement already satisfied: packaging in ./.venv/lib/python3.10/site-packages (from nbconvert>=6.0->jupyter_contrib_nbextensions) (24.2)\n",
      "Requirement already satisfied: pandocfilters>=1.4.1 in ./.venv/lib/python3.10/site-packages (from nbconvert>=6.0->jupyter_contrib_nbextensions) (1.5.1)\n",
      "Requirement already satisfied: pygments>=2.4.1 in ./.venv/lib/python3.10/site-packages (from nbconvert>=6.0->jupyter_contrib_nbextensions) (2.18.0)\n",
      "Requirement already satisfied: tinycss2 in ./.venv/lib/python3.10/site-packages (from nbconvert>=6.0->jupyter_contrib_nbextensions) (1.4.0)\n",
      "Requirement already satisfied: platformdirs>=2.5 in ./.venv/lib/python3.10/site-packages (from jupyter_core->jupyter_contrib_nbextensions) (4.3.6)\n",
      "Requirement already satisfied: jupyterlab-server<3,>=2.27.1 in ./.venv/lib/python3.10/site-packages (from notebook>=6.0->jupyter_contrib_nbextensions) (2.27.3)\n",
      "Requirement already satisfied: jupyterlab<4.3,>=4.2.0 in ./.venv/lib/python3.10/site-packages (from notebook>=6.0->jupyter_contrib_nbextensions) (4.2.5)\n",
      "Requirement already satisfied: notebook-shim<0.3,>=0.2 in ./.venv/lib/python3.10/site-packages (from notebook>=6.0->jupyter_contrib_nbextensions) (0.2.4)\n",
      "Requirement already satisfied: webencodings in ./.venv/lib/python3.10/site-packages (from bleach!=5.0.0->nbconvert>=6.0->jupyter_contrib_nbextensions) (0.5.1)\n",
      "Requirement already satisfied: anyio>=3.1.0 in ./.venv/lib/python3.10/site-packages (from jupyter-server->jupyter_nbextensions_configurator>=0.4.0->jupyter_contrib_nbextensions) (4.6.2.post1)\n",
      "Requirement already satisfied: argon2-cffi>=21.1 in ./.venv/lib/python3.10/site-packages (from jupyter-server->jupyter_nbextensions_configurator>=0.4.0->jupyter_contrib_nbextensions) (23.1.0)\n",
      "Requirement already satisfied: jupyter-client>=7.4.4 in ./.venv/lib/python3.10/site-packages (from jupyter-server->jupyter_nbextensions_configurator>=0.4.0->jupyter_contrib_nbextensions) (8.6.3)\n",
      "Requirement already satisfied: jupyter-events>=0.9.0 in ./.venv/lib/python3.10/site-packages (from jupyter-server->jupyter_nbextensions_configurator>=0.4.0->jupyter_contrib_nbextensions) (0.10.0)\n",
      "Requirement already satisfied: jupyter-server-terminals>=0.4.4 in ./.venv/lib/python3.10/site-packages (from jupyter-server->jupyter_nbextensions_configurator>=0.4.0->jupyter_contrib_nbextensions) (0.5.3)\n",
      "Requirement already satisfied: overrides>=5.0 in ./.venv/lib/python3.10/site-packages (from jupyter-server->jupyter_nbextensions_configurator>=0.4.0->jupyter_contrib_nbextensions) (7.7.0)\n",
      "Requirement already satisfied: prometheus-client>=0.9 in ./.venv/lib/python3.10/site-packages (from jupyter-server->jupyter_nbextensions_configurator>=0.4.0->jupyter_contrib_nbextensions) (0.21.0)\n",
      "Requirement already satisfied: pyzmq>=24 in ./.venv/lib/python3.10/site-packages (from jupyter-server->jupyter_nbextensions_configurator>=0.4.0->jupyter_contrib_nbextensions) (26.2.0)\n",
      "Requirement already satisfied: send2trash>=1.8.2 in ./.venv/lib/python3.10/site-packages (from jupyter-server->jupyter_nbextensions_configurator>=0.4.0->jupyter_contrib_nbextensions) (1.8.3)\n",
      "Requirement already satisfied: terminado>=0.8.3 in ./.venv/lib/python3.10/site-packages (from jupyter-server->jupyter_nbextensions_configurator>=0.4.0->jupyter_contrib_nbextensions) (0.18.1)\n",
      "Requirement already satisfied: websocket-client>=1.7 in ./.venv/lib/python3.10/site-packages (from jupyter-server->jupyter_nbextensions_configurator>=0.4.0->jupyter_contrib_nbextensions) (1.8.0)\n",
      "Requirement already satisfied: async-lru>=1.0.0 in ./.venv/lib/python3.10/site-packages (from jupyterlab<4.3,>=4.2.0->notebook>=6.0->jupyter_contrib_nbextensions) (2.0.4)\n",
      "Requirement already satisfied: httpx>=0.25.0 in ./.venv/lib/python3.10/site-packages (from jupyterlab<4.3,>=4.2.0->notebook>=6.0->jupyter_contrib_nbextensions) (0.27.2)\n",
      "Requirement already satisfied: ipykernel>=6.5.0 in ./.venv/lib/python3.10/site-packages (from jupyterlab<4.3,>=4.2.0->notebook>=6.0->jupyter_contrib_nbextensions) (6.29.5)\n",
      "Requirement already satisfied: jupyter-lsp>=2.0.0 in ./.venv/lib/python3.10/site-packages (from jupyterlab<4.3,>=4.2.0->notebook>=6.0->jupyter_contrib_nbextensions) (2.2.5)\n",
      "Requirement already satisfied: tomli>=1.2.2 in ./.venv/lib/python3.10/site-packages (from jupyterlab<4.3,>=4.2.0->notebook>=6.0->jupyter_contrib_nbextensions) (2.1.0)\n",
      "Requirement already satisfied: babel>=2.10 in ./.venv/lib/python3.10/site-packages (from jupyterlab-server<3,>=2.27.1->notebook>=6.0->jupyter_contrib_nbextensions) (2.16.0)\n",
      "Requirement already satisfied: json5>=0.9.0 in ./.venv/lib/python3.10/site-packages (from jupyterlab-server<3,>=2.27.1->notebook>=6.0->jupyter_contrib_nbextensions) (0.9.28)\n",
      "Requirement already satisfied: jsonschema>=4.18.0 in ./.venv/lib/python3.10/site-packages (from jupyterlab-server<3,>=2.27.1->notebook>=6.0->jupyter_contrib_nbextensions) (4.23.0)\n",
      "Requirement already satisfied: requests>=2.31 in ./.venv/lib/python3.10/site-packages (from jupyterlab-server<3,>=2.27.1->notebook>=6.0->jupyter_contrib_nbextensions) (2.32.3)\n",
      "Requirement already satisfied: fastjsonschema>=2.15 in ./.venv/lib/python3.10/site-packages (from nbformat>=5.7->nbconvert>=6.0->jupyter_contrib_nbextensions) (2.20.0)\n",
      "Requirement already satisfied: soupsieve>1.2 in ./.venv/lib/python3.10/site-packages (from beautifulsoup4->nbconvert>=6.0->jupyter_contrib_nbextensions) (2.6)\n",
      "Requirement already satisfied: idna>=2.8 in ./.venv/lib/python3.10/site-packages (from anyio>=3.1.0->jupyter-server->jupyter_nbextensions_configurator>=0.4.0->jupyter_contrib_nbextensions) (3.10)\n",
      "Requirement already satisfied: sniffio>=1.1 in ./.venv/lib/python3.10/site-packages (from anyio>=3.1.0->jupyter-server->jupyter_nbextensions_configurator>=0.4.0->jupyter_contrib_nbextensions) (1.3.1)\n",
      "Requirement already satisfied: exceptiongroup>=1.0.2 in ./.venv/lib/python3.10/site-packages (from anyio>=3.1.0->jupyter-server->jupyter_nbextensions_configurator>=0.4.0->jupyter_contrib_nbextensions) (1.2.2)\n",
      "Requirement already satisfied: typing-extensions>=4.1 in ./.venv/lib/python3.10/site-packages (from anyio>=3.1.0->jupyter-server->jupyter_nbextensions_configurator>=0.4.0->jupyter_contrib_nbextensions) (4.12.2)\n",
      "Requirement already satisfied: argon2-cffi-bindings in ./.venv/lib/python3.10/site-packages (from argon2-cffi>=21.1->jupyter-server->jupyter_nbextensions_configurator>=0.4.0->jupyter_contrib_nbextensions) (21.2.0)\n",
      "Requirement already satisfied: certifi in ./.venv/lib/python3.10/site-packages (from httpx>=0.25.0->jupyterlab<4.3,>=4.2.0->notebook>=6.0->jupyter_contrib_nbextensions) (2024.8.30)\n",
      "Requirement already satisfied: httpcore==1.* in ./.venv/lib/python3.10/site-packages (from httpx>=0.25.0->jupyterlab<4.3,>=4.2.0->notebook>=6.0->jupyter_contrib_nbextensions) (1.0.6)\n",
      "Requirement already satisfied: h11<0.15,>=0.13 in ./.venv/lib/python3.10/site-packages (from httpcore==1.*->httpx>=0.25.0->jupyterlab<4.3,>=4.2.0->notebook>=6.0->jupyter_contrib_nbextensions) (0.14.0)\n",
      "Requirement already satisfied: appnope in ./.venv/lib/python3.10/site-packages (from ipykernel>=6.5.0->jupyterlab<4.3,>=4.2.0->notebook>=6.0->jupyter_contrib_nbextensions) (0.1.4)\n",
      "Requirement already satisfied: comm>=0.1.1 in ./.venv/lib/python3.10/site-packages (from ipykernel>=6.5.0->jupyterlab<4.3,>=4.2.0->notebook>=6.0->jupyter_contrib_nbextensions) (0.2.2)\n",
      "Requirement already satisfied: debugpy>=1.6.5 in ./.venv/lib/python3.10/site-packages (from ipykernel>=6.5.0->jupyterlab<4.3,>=4.2.0->notebook>=6.0->jupyter_contrib_nbextensions) (1.8.8)\n",
      "Requirement already satisfied: ipython>=7.23.1 in ./.venv/lib/python3.10/site-packages (from ipykernel>=6.5.0->jupyterlab<4.3,>=4.2.0->notebook>=6.0->jupyter_contrib_nbextensions) (8.29.0)\n",
      "Requirement already satisfied: matplotlib-inline>=0.1 in ./.venv/lib/python3.10/site-packages (from ipykernel>=6.5.0->jupyterlab<4.3,>=4.2.0->notebook>=6.0->jupyter_contrib_nbextensions) (0.1.7)\n",
      "Requirement already satisfied: nest-asyncio in ./.venv/lib/python3.10/site-packages (from ipykernel>=6.5.0->jupyterlab<4.3,>=4.2.0->notebook>=6.0->jupyter_contrib_nbextensions) (1.6.0)\n",
      "Requirement already satisfied: psutil in ./.venv/lib/python3.10/site-packages (from ipykernel>=6.5.0->jupyterlab<4.3,>=4.2.0->notebook>=6.0->jupyter_contrib_nbextensions) (6.1.0)\n",
      "Requirement already satisfied: attrs>=22.2.0 in ./.venv/lib/python3.10/site-packages (from jsonschema>=4.18.0->jupyterlab-server<3,>=2.27.1->notebook>=6.0->jupyter_contrib_nbextensions) (24.2.0)\n",
      "Requirement already satisfied: jsonschema-specifications>=2023.03.6 in ./.venv/lib/python3.10/site-packages (from jsonschema>=4.18.0->jupyterlab-server<3,>=2.27.1->notebook>=6.0->jupyter_contrib_nbextensions) (2024.10.1)\n",
      "Requirement already satisfied: referencing>=0.28.4 in ./.venv/lib/python3.10/site-packages (from jsonschema>=4.18.0->jupyterlab-server<3,>=2.27.1->notebook>=6.0->jupyter_contrib_nbextensions) (0.35.1)\n",
      "Requirement already satisfied: rpds-py>=0.7.1 in ./.venv/lib/python3.10/site-packages (from jsonschema>=4.18.0->jupyterlab-server<3,>=2.27.1->notebook>=6.0->jupyter_contrib_nbextensions) (0.21.0)\n",
      "Requirement already satisfied: python-dateutil>=2.8.2 in ./.venv/lib/python3.10/site-packages (from jupyter-client>=7.4.4->jupyter-server->jupyter_nbextensions_configurator>=0.4.0->jupyter_contrib_nbextensions) (2.9.0.post0)\n",
      "Requirement already satisfied: python-json-logger>=2.0.4 in ./.venv/lib/python3.10/site-packages (from jupyter-events>=0.9.0->jupyter-server->jupyter_nbextensions_configurator>=0.4.0->jupyter_contrib_nbextensions) (2.0.7)\n",
      "Requirement already satisfied: rfc3339-validator in ./.venv/lib/python3.10/site-packages (from jupyter-events>=0.9.0->jupyter-server->jupyter_nbextensions_configurator>=0.4.0->jupyter_contrib_nbextensions) (0.1.4)\n",
      "Requirement already satisfied: rfc3986-validator>=0.1.1 in ./.venv/lib/python3.10/site-packages (from jupyter-events>=0.9.0->jupyter-server->jupyter_nbextensions_configurator>=0.4.0->jupyter_contrib_nbextensions) (0.1.1)\n",
      "Requirement already satisfied: charset-normalizer<4,>=2 in ./.venv/lib/python3.10/site-packages (from requests>=2.31->jupyterlab-server<3,>=2.27.1->notebook>=6.0->jupyter_contrib_nbextensions) (3.4.0)\n",
      "Requirement already satisfied: urllib3<3,>=1.21.1 in ./.venv/lib/python3.10/site-packages (from requests>=2.31->jupyterlab-server<3,>=2.27.1->notebook>=6.0->jupyter_contrib_nbextensions) (2.2.3)\n",
      "Requirement already satisfied: ptyprocess in ./.venv/lib/python3.10/site-packages (from terminado>=0.8.3->jupyter-server->jupyter_nbextensions_configurator>=0.4.0->jupyter_contrib_nbextensions) (0.7.0)\n",
      "Requirement already satisfied: decorator in ./.venv/lib/python3.10/site-packages (from ipython>=7.23.1->ipykernel>=6.5.0->jupyterlab<4.3,>=4.2.0->notebook>=6.0->jupyter_contrib_nbextensions) (5.1.1)\n",
      "Requirement already satisfied: jedi>=0.16 in ./.venv/lib/python3.10/site-packages (from ipython>=7.23.1->ipykernel>=6.5.0->jupyterlab<4.3,>=4.2.0->notebook>=6.0->jupyter_contrib_nbextensions) (0.19.2)\n",
      "Requirement already satisfied: prompt-toolkit<3.1.0,>=3.0.41 in ./.venv/lib/python3.10/site-packages (from ipython>=7.23.1->ipykernel>=6.5.0->jupyterlab<4.3,>=4.2.0->notebook>=6.0->jupyter_contrib_nbextensions) (3.0.48)\n",
      "Requirement already satisfied: stack-data in ./.venv/lib/python3.10/site-packages (from ipython>=7.23.1->ipykernel>=6.5.0->jupyterlab<4.3,>=4.2.0->notebook>=6.0->jupyter_contrib_nbextensions) (0.6.3)\n",
      "Requirement already satisfied: pexpect>4.3 in ./.venv/lib/python3.10/site-packages (from ipython>=7.23.1->ipykernel>=6.5.0->jupyterlab<4.3,>=4.2.0->notebook>=6.0->jupyter_contrib_nbextensions) (4.9.0)\n",
      "Requirement already satisfied: fqdn in ./.venv/lib/python3.10/site-packages (from jsonschema[format-nongpl]>=4.18.0->jupyter-events>=0.9.0->jupyter-server->jupyter_nbextensions_configurator>=0.4.0->jupyter_contrib_nbextensions) (1.5.1)\n",
      "Requirement already satisfied: isoduration in ./.venv/lib/python3.10/site-packages (from jsonschema[format-nongpl]>=4.18.0->jupyter-events>=0.9.0->jupyter-server->jupyter_nbextensions_configurator>=0.4.0->jupyter_contrib_nbextensions) (20.11.0)\n",
      "Requirement already satisfied: jsonpointer>1.13 in ./.venv/lib/python3.10/site-packages (from jsonschema[format-nongpl]>=4.18.0->jupyter-events>=0.9.0->jupyter-server->jupyter_nbextensions_configurator>=0.4.0->jupyter_contrib_nbextensions) (3.0.0)\n",
      "Requirement already satisfied: uri-template in ./.venv/lib/python3.10/site-packages (from jsonschema[format-nongpl]>=4.18.0->jupyter-events>=0.9.0->jupyter-server->jupyter_nbextensions_configurator>=0.4.0->jupyter_contrib_nbextensions) (1.3.0)\n",
      "Requirement already satisfied: webcolors>=24.6.0 in ./.venv/lib/python3.10/site-packages (from jsonschema[format-nongpl]>=4.18.0->jupyter-events>=0.9.0->jupyter-server->jupyter_nbextensions_configurator>=0.4.0->jupyter_contrib_nbextensions) (24.11.1)\n",
      "Requirement already satisfied: six>=1.5 in ./.venv/lib/python3.10/site-packages (from python-dateutil>=2.8.2->jupyter-client>=7.4.4->jupyter-server->jupyter_nbextensions_configurator>=0.4.0->jupyter_contrib_nbextensions) (1.16.0)\n",
      "Requirement already satisfied: cffi>=1.0.1 in ./.venv/lib/python3.10/site-packages (from argon2-cffi-bindings->argon2-cffi>=21.1->jupyter-server->jupyter_nbextensions_configurator>=0.4.0->jupyter_contrib_nbextensions) (1.17.1)\n",
      "Requirement already satisfied: pycparser in ./.venv/lib/python3.10/site-packages (from cffi>=1.0.1->argon2-cffi-bindings->argon2-cffi>=21.1->jupyter-server->jupyter_nbextensions_configurator>=0.4.0->jupyter_contrib_nbextensions) (2.22)\n",
      "Requirement already satisfied: parso<0.9.0,>=0.8.4 in ./.venv/lib/python3.10/site-packages (from jedi>=0.16->ipython>=7.23.1->ipykernel>=6.5.0->jupyterlab<4.3,>=4.2.0->notebook>=6.0->jupyter_contrib_nbextensions) (0.8.4)\n",
      "Requirement already satisfied: wcwidth in ./.venv/lib/python3.10/site-packages (from prompt-toolkit<3.1.0,>=3.0.41->ipython>=7.23.1->ipykernel>=6.5.0->jupyterlab<4.3,>=4.2.0->notebook>=6.0->jupyter_contrib_nbextensions) (0.2.13)\n",
      "Requirement already satisfied: arrow>=0.15.0 in ./.venv/lib/python3.10/site-packages (from isoduration->jsonschema[format-nongpl]>=4.18.0->jupyter-events>=0.9.0->jupyter-server->jupyter_nbextensions_configurator>=0.4.0->jupyter_contrib_nbextensions) (1.3.0)\n",
      "Requirement already satisfied: executing>=1.2.0 in ./.venv/lib/python3.10/site-packages (from stack-data->ipython>=7.23.1->ipykernel>=6.5.0->jupyterlab<4.3,>=4.2.0->notebook>=6.0->jupyter_contrib_nbextensions) (2.1.0)\n",
      "Requirement already satisfied: asttokens>=2.1.0 in ./.venv/lib/python3.10/site-packages (from stack-data->ipython>=7.23.1->ipykernel>=6.5.0->jupyterlab<4.3,>=4.2.0->notebook>=6.0->jupyter_contrib_nbextensions) (2.4.1)\n",
      "Requirement already satisfied: pure-eval in ./.venv/lib/python3.10/site-packages (from stack-data->ipython>=7.23.1->ipykernel>=6.5.0->jupyterlab<4.3,>=4.2.0->notebook>=6.0->jupyter_contrib_nbextensions) (0.2.3)\n",
      "Requirement already satisfied: types-python-dateutil>=2.8.10 in ./.venv/lib/python3.10/site-packages (from arrow>=0.15.0->isoduration->jsonschema[format-nongpl]>=4.18.0->jupyter-events>=0.9.0->jupyter-server->jupyter_nbextensions_configurator>=0.4.0->jupyter_contrib_nbextensions) (2.9.0.20241003)\n",
      "Note: you may need to restart the kernel to use updated packages.\n"
     ]
    }
   ],
   "source": [
    "   pip install jupyter_contrib_nbextensions"
   ]
  }
 ],
 "metadata": {
  "kernelspec": {
   "display_name": ".venv",
   "language": "python",
   "name": "python3"
  },
  "language_info": {
   "codemirror_mode": {
    "name": "ipython",
    "version": 3
   },
   "file_extension": ".py",
   "mimetype": "text/x-python",
   "name": "python",
   "nbconvert_exporter": "python",
   "pygments_lexer": "ipython3",
   "version": "3.10.2"
  }
 },
 "nbformat": 4,
 "nbformat_minor": 2
}
