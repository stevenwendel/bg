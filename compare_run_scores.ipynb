{
 "cells": [
  {
   "cell_type": "markdown",
   "metadata": {},
   "source": [
    "I want to go through each pkl file in the data_folder=\"/Users/stevenwendel/Documents/GitHub/bg/data\" and create a single, giant dictionary dataframe from them, where the columns are the file_name, and then the keys inside those folders (i.e. 'dna', dna_score', 'generation', ect) "
   ]
  },
  {
   "cell_type": "code",
   "execution_count": 1,
   "metadata": {},
   "outputs": [],
   "source": [
    "import pickle\n",
    "import os, sys\n",
    "import numpy as np\n",
    "import pandas as pd"
   ]
  },
  {
   "cell_type": "code",
   "execution_count": 23,
   "metadata": {},
   "outputs": [],
   "source": [
    "data_folder = \"/Users/stevenwendel/Documents/GitHub/bg/data\"\n",
    "data_dict = {}\n",
    "\n",
    "# Iterate through each pkl file in the data folder\n",
    "for file_name in os.listdir(data_folder):\n",
    "        file_path = os.path.join(data_folder, file_name)\n",
    "        with open(file_path, 'rb') as f:\n",
    "            data = pickle.load(f)\n",
    "            for generation, list_of_dna in data.items():\n",
    "                for idx, dna in enumerate(list_of_dna):\n",
    "                    data_dict[f\"{file_name}_{generation}_{idx}\"] = {\n",
    "                        'file_name': file_name,\n",
    "                        'iteration': idx,\n",
    "                        'generation': generation,\n",
    "                        'dna': dna['dna'],\n",
    "                        'dna_score': dna['dna_score']\n",
    "                    }\n",
    "\n",
    "# Convert the dictionary to a DataFrame\n",
    "data_df = pd.DataFrame.from_dict(data_dict, orient='index')"
   ]
  },
  {
   "cell_type": "code",
   "execution_count": 26,
   "metadata": {},
   "outputs": [],
   "source": [
    "sorted_df=data_df.sort_values(by=\"dna_score\", ascending=True).reset_index(drop=True)"
   ]
  },
  {
   "cell_type": "code",
   "execution_count": null,
   "metadata": {},
   "outputs": [],
   "source": [
    "test_pkl=\"/Users/stevenwendel/Documents/GitHub/bg/data/J_high_gen6_2025-04-01_15-10-18.pkl\"\n",
    "df=pd.read_pickle(test_pkl)\n"
   ]
  },
  {
   "cell_type": "code",
   "execution_count": 21,
   "metadata": {},
   "outputs": [
    {
     "data": {
      "text/plain": [
       "(39, 5)"
      ]
     },
     "execution_count": 22,
     "metadata": {},
     "output_type": "execute_result"
    }
   ],
   "source": [
    "data_df.sort_values(by='dna_score',ascending=True).reset_index(drop=True).shape"
   ]
  },
  {
   "cell_type": "markdown",
   "metadata": {},
   "source": [
    "data_df\n"
   ]
  }
 ],
 "metadata": {
  "kernelspec": {
   "display_name": "myenv",
   "language": "python",
   "name": "python3"
  },
  "language_info": {
   "codemirror_mode": {
    "name": "ipython",
    "version": 3
   },
   "file_extension": ".py",
   "mimetype": "text/x-python",
   "name": "python",
   "nbconvert_exporter": "python",
   "pygments_lexer": "ipython3",
   "version": "3.9.6"
  }
 },
 "nbformat": 4,
 "nbformat_minor": 2
}
